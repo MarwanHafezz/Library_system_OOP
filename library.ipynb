{
 "cells": [
  {
   "attachments": {},
   "cell_type": "markdown",
   "metadata": {},
   "source": [
    "![image.png](library.jpg)"
   ]
  },
  {
   "cell_type": "markdown",
   "metadata": {},
   "source": [
    "> ### Harry works in the library, Harry is tired of writing data in paper records so Harry decides to go digital.\n",
    "> ### Harry wants a program to do all the operations in the library.\n",
    "> ### Let's help Harry!"
   ]
  },
  {
   "cell_type": "markdown",
   "metadata": {},
   "source": [
    "# Task 1 : \n",
    "- #### task 1.1 Make Class(Library) with attributes:\n",
    "    - booksList  \n",
    "    - name of lirary  \n",
    "    - lended books (name of user, book) \n",
    "- #### task 1.2 Make method to display available Books.\n",
    "- #### task 1.3 Make method for books lending.\n",
    "    - Don't forget to check if book isn't already lended \n",
    "- #### task 1.4 Make method to add Book to library.\n",
    "- #### task 1.5 Make method to return borrowed book."
   ]
  },
  {
   "cell_type": "code",
   "execution_count": 18,
   "metadata": {},
   "outputs": [],
   "source": [
    "class Library:\n",
    "    def __init__(self,name,books_list,lended_books_dic):\n",
    "        self.name = name \n",
    "        self.books_list = books_list\n",
    "        self.lended_books_dic = lended_books_dic\n",
    "        \n",
    "    def display_all_books(self):\n",
    "        print(f\"{self.name} has the following books:\")\n",
    "        for book in self.books_list:\n",
    "              print(book)\n",
    "        \n",
    "    def display_available_books(self):\n",
    "        print(f\"{self.name} has the following books available:\")\n",
    "        for book in self.books_list:\n",
    "              if book not in self.lended_books_dic.values():\n",
    "                print(book)\n",
    "              \n",
    "    def add_book(self, book_name):\n",
    "            self.books_list.append(book_name)\n",
    "            print(f\"{book_name} has been added to the library\")\n",
    "              \n",
    "    def lend_book(self,book_name,user):\n",
    "            if book_name in self.books_list:\n",
    "                if book_name not in self.lended_books_dic:\n",
    "                        self.lended_books_dic[book_name] = user\n",
    "                        print (f\"{user} has now {book_name}\")\n",
    "                else:\n",
    "                        print(f\"{book_name} is already lended\")\n",
    "            else:\n",
    "                    print(f\"{book_name} is not in the library\")\n",
    "    def return_book(self,book_name):\n",
    "        if book_name in self.lended_books_dic:\n",
    "            del self.lended_books_dic[book_name]\n",
    "            print(f\"{book_name} has been returned\")\n",
    "                        "
   ]
  },
  {
   "cell_type": "markdown",
   "metadata": {},
   "source": [
    "# Task 2 : \n",
    "- #### task 2.1 Make object(Harry) with attributes:\n",
    "    - booksList  = ['Python', 'Rich Daddy Poor Daddy', 'Harry Potter', 'C++ Basics', 'Algorithms by CLRS']\n",
    "    - name of lirary  = \"CodeWithHarry\"\n",
    "- #### task 2.2 Make program run with this choices. __(Don't forget the welcome message)__\n",
    "    - 1. Display Books\n",
    "    - 2. Lend a Book\n",
    "    - 3. Add a Book\n",
    "    - 4. Return a Book\n",
    "- #### task 2.3 Make prgram ends or continue."
   ]
  },
  {
   "cell_type": "code",
   "execution_count": 23,
   "metadata": {},
   "outputs": [
    {
     "name": "stdout",
     "output_type": "stream",
     "text": [
      "Enter your choice : 1\n"
     ]
    },
    {
     "ename": "NameError",
     "evalue": "name 'Harry' is not defined",
     "output_type": "error",
     "traceback": [
      "\u001b[1;31m---------------------------------------------------------------------------\u001b[0m",
      "\u001b[1;31mNameError\u001b[0m                                 Traceback (most recent call last)",
      "\u001b[1;32m<ipython-input-23-864b4e145d03>\u001b[0m in \u001b[0;36m<module>\u001b[1;34m\u001b[0m\n\u001b[0;32m      1\u001b[0m \u001b[0mchoice\u001b[0m \u001b[1;33m=\u001b[0m \u001b[0minput\u001b[0m\u001b[1;33m(\u001b[0m\u001b[1;34m\"Enter your choice : \"\u001b[0m\u001b[1;33m)\u001b[0m\u001b[1;33m\u001b[0m\u001b[1;33m\u001b[0m\u001b[0m\n\u001b[0;32m      2\u001b[0m \u001b[1;32mif\u001b[0m \u001b[0mchoice\u001b[0m \u001b[1;33m==\u001b[0m \u001b[1;34m\"1\"\u001b[0m\u001b[1;33m:\u001b[0m\u001b[1;33m\u001b[0m\u001b[1;33m\u001b[0m\u001b[0m\n\u001b[1;32m----> 3\u001b[1;33m     \u001b[0mHarry\u001b[0m\u001b[1;33m.\u001b[0m\u001b[0mdisplay_all_books\u001b[0m\u001b[1;33m(\u001b[0m\u001b[1;33m)\u001b[0m\u001b[1;33m\u001b[0m\u001b[1;33m\u001b[0m\u001b[0m\n\u001b[0m\u001b[0;32m      4\u001b[0m \u001b[1;33m\u001b[0m\u001b[0m\n\u001b[0;32m      5\u001b[0m \u001b[1;32melif\u001b[0m \u001b[0mchoice\u001b[0m \u001b[1;33m==\u001b[0m \u001b[1;34m\"2\"\u001b[0m\u001b[1;33m:\u001b[0m\u001b[1;33m\u001b[0m\u001b[1;33m\u001b[0m\u001b[0m\n",
      "\u001b[1;31mNameError\u001b[0m: name 'Harry' is not defined"
     ]
    }
   ],
   "source": [
    "choice = input(\"Enter your choice : \")\n",
    "if choice == \"1\":\n",
    "    Harry.display_all_books()\n",
    "\n",
    "elif choice == \"2\":\n",
    "    book_name = input(\"Enter the name of the book\")\n",
    "    user = input(\"Enter the name of the user\")\n",
    "    Harry.lend_book(book_name , user)\n",
    "elif choice == \"3\":\n",
    "    book_name = input(\"Enter the name of the book\")\n",
    "    Harry.add_book(book_name)\n",
    "elif choice == \"4\":\n",
    "    book_name = input (\"Enter the name of the book\")\n",
    "    Harry.return_book(book_name)\n",
    "else:\n",
    "    print(\"Invalid choice\")\n",
    "     \n",
    "print(\"\\n\")\n",
    "print(\"Do you want to continue? (y/n)\")"
   ]
  },
  {
   "cell_type": "code",
   "execution_count": null,
   "metadata": {},
   "outputs": [],
   "source": []
  }
 ],
 "metadata": {
  "kernelspec": {
   "display_name": "Python 3",
   "language": "python",
   "name": "python3"
  },
  "language_info": {
   "codemirror_mode": {
    "name": "ipython",
    "version": 3
   },
   "file_extension": ".py",
   "mimetype": "text/x-python",
   "name": "python",
   "nbconvert_exporter": "python",
   "pygments_lexer": "ipython3",
   "version": "3.7.6"
  },
  "vscode": {
   "interpreter": {
    "hash": "78c960279fecff9e244480132042affa22d495e3cfc64966045877e7ad2bb26d"
   }
  }
 },
 "nbformat": 4,
 "nbformat_minor": 4
}
